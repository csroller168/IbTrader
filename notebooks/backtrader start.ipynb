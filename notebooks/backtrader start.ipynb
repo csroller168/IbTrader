{
 "cells": [
  {
   "cell_type": "code",
   "execution_count": 8,
   "metadata": {},
   "outputs": [],
   "source": [
    "import importlib.util"
   ]
  },
  {
   "cell_type": "code",
   "execution_count": 9,
   "metadata": {},
   "outputs": [],
   "source": [
    "from __future__ import (absolute_import, division, print_function,\n",
    "                        unicode_literals)\n",
    "import backtrader as bt\n",
    "from datetime import datetime"
   ]
  },
  {
   "cell_type": "code",
   "execution_count": 10,
   "metadata": {},
   "outputs": [],
   "source": [
    "spec = importlib.util.spec_from_file_location(\"PandasRepo\", \"/Users/dennis/PycharmProjects/IbTrader/PandasRepo.py\")\n",
    "PandasRepoModule = importlib.util.module_from_spec(spec)\n",
    "spec.loader.exec_module(PandasRepoModule)"
   ]
  },
  {
   "cell_type": "code",
   "execution_count": 11,
   "metadata": {},
   "outputs": [],
   "source": [
    "class FirstBacktraderStrategy(bt.Strategy):\n",
    "\n",
    "    def __init__(self):\n",
    "        self.rsi = dict()\n",
    "        for symbol in self.getdatanames():\n",
    "            self.rsi[symbol] = bt.indicators.RSI_SMA(self.getdatabyname(symbol).close, period=21)\n",
    "\n",
    "    def next(self):\n",
    "        for symbol in self.getdatanames():\n",
    "            pos = self.getpositionbyname(symbol).size or 0\n",
    "            if pos == 0:\n",
    "                if self.rsi[symbol][0] < 30:\n",
    "                    self.buy(data=self.getdatabyname(symbol), size=100)\n",
    "            else:\n",
    "                if self.rsi[symbol][0] > 70:\n",
    "                    self.sell(data=self.getdatabyname(symbol), size=100)"
   ]
  },
  {
   "cell_type": "code",
   "execution_count": 42,
   "metadata": {},
   "outputs": [],
   "source": [
    "class BacktraderWrapper:\n",
    "    def __init__(self,\n",
    "                 startCash = 10000,\n",
    "                 universe = [\"IYM\", \"IYC\", \"IYK\", \"IYE\", \"IYF\", \"IYH\", \"IYR\", \"IYW\", \"IDU\"],\n",
    "                 startDate = datetime(2016, 1, 1),\n",
    "                 endDate = datetime(2016, 12, 31)):\n",
    "        self._startCash = startCash\n",
    "        self._universe = universe\n",
    "        self._startDate = startDate\n",
    "        self._endDate = endDate\n",
    "\n",
    "    def RunBackTest(self):\n",
    "        # Create an instance of cerebro\n",
    "        cerebro = bt.Cerebro()\n",
    "\n",
    "        # Add our strategy\n",
    "        cerebro.addstrategy(FirstBacktraderStrategy)\n",
    "\n",
    "        # Add data feed\n",
    "        for symbol in self._universe:\n",
    "            df = PandasRepoModule.PandasRepo().GetData(symbol, self._startDate, self._endDate)\n",
    "            data = bt.feeds.PandasData(dataname=df)\n",
    "            cerebro.adddata(data, name=symbol)\n",
    "\n",
    "        # Set our desired cash start\n",
    "        cerebro.broker.setcash(self._startCash)\n",
    "\n",
    "        # Set up pyfolio\n",
    "        cerebro.addanalyzer(bt.analyzers.PyFolio, _name='pyfolio')\n",
    "\n",
    "        # Run over everything\n",
    "        results = cerebro.run()\n",
    "        strat = results[0]\n",
    "        pyfoliozer = strat.analyzers.getbyname('pyfolio')\n",
    "        returns, positions, transactions, gross_lev = pyfoliozer.get_pf_items()\n",
    "        print(returns.head())\n",
    "        print(returns.index[0].tz)\n",
    "        \n",
    "        benchmarkDf = df = PandasRepoModule.PandasRepo().GetData('SPY', self._startDate, self._endDate)\n",
    "        benchmarkDf = benchmarkDf['Close'].pct_change().fillna(0).tz_localize(tz='UTC')\n",
    "        print(benchmarkDf.head())\n",
    "        print(benchmarkDf.index[0].tz)\n",
    "\n",
    "        import pyfolio as pf\n",
    "        pf.create_full_tear_sheet(\n",
    "            returns,\n",
    "            positions=positions,\n",
    "            benchmark_rets = benchmarkDf,\n",
    "            transactions=transactions,\n",
    "            gross_lev=gross_lev,\n",
    "            live_start_date='2016-01-01',  # This date is sample specific\n",
    "            round_trips=True)"
   ]
  },
  {
   "cell_type": "code",
   "execution_count": 43,
   "metadata": {},
   "outputs": [
    {
     "name": "stdout",
     "output_type": "stream",
     "text": [
      "index\n",
      "2016-01-01 00:00:00+00:00    0.0\n",
      "2016-01-04 00:00:00+00:00    0.0\n",
      "2016-01-05 00:00:00+00:00    0.0\n",
      "2016-01-06 00:00:00+00:00    0.0\n",
      "2016-01-07 00:00:00+00:00    0.0\n",
      "Name: return, dtype: float64\n",
      "UTC\n",
      "2016-01-01 00:00:00+00:00    0.000000\n",
      "2016-01-04 00:00:00+00:00   -0.013983\n",
      "2016-01-05 00:00:00+00:00    0.001695\n",
      "2016-01-06 00:00:00+00:00   -0.012614\n",
      "2016-01-07 00:00:00+00:00   -0.023992\n",
      "Name: Close, dtype: float64\n",
      "UTC\n",
      "Entire data start date: 2016-01-01\n",
      "Entire data end date: 2017-12-29\n",
      "\n",
      "\n",
      "Out-of-Sample Months: 24\n",
      "Backtest Months: 0\n"
     ]
    },
    {
     "name": "stderr",
     "output_type": "stream",
     "text": [
      "/anaconda3/envs/ipykernel_py3/lib/python3.6/site-packages/pyfolio/timeseries.py:416: FutureWarning: \n",
      "Passing list-likes to .loc or [] with any missing label will raise\n",
      "KeyError in the future, you can use .reindex() as an alternative.\n",
      "\n",
      "See the documentation here:\n",
      "http://pandas.pydata.org/pandas-docs/stable/indexing.html#deprecate-loc-reindex-listlike\n",
      "  beta, alpha = sp.stats.linregress(factor_returns.loc[ret_index].values,\n"
     ]
    },
    {
     "ename": "ValueError",
     "evalue": "Inputs must not be empty.",
     "output_type": "error",
     "traceback": [
      "\u001b[0;31m---------------------------------------------------------------------------\u001b[0m",
      "\u001b[0;31mValueError\u001b[0m                                Traceback (most recent call last)",
      "\u001b[0;32m<ipython-input-43-86c6e3328fa3>\u001b[0m in \u001b[0;36m<module>\u001b[0;34m()\u001b[0m\n\u001b[0;32m----> 1\u001b[0;31m \u001b[0mBacktraderWrapper\u001b[0m\u001b[0;34m(\u001b[0m\u001b[0mstartCash\u001b[0m\u001b[0;34m=\u001b[0m\u001b[0;36m100000\u001b[0m\u001b[0;34m)\u001b[0m\u001b[0;34m.\u001b[0m\u001b[0mRunBackTest\u001b[0m\u001b[0;34m(\u001b[0m\u001b[0;34m)\u001b[0m\u001b[0;34m\u001b[0m\u001b[0m\n\u001b[0m",
      "\u001b[0;32m<ipython-input-42-a1553c358f7c>\u001b[0m in \u001b[0;36mRunBackTest\u001b[0;34m(self)\u001b[0m\n\u001b[1;32m     50\u001b[0m             \u001b[0mgross_lev\u001b[0m\u001b[0;34m=\u001b[0m\u001b[0mgross_lev\u001b[0m\u001b[0;34m,\u001b[0m\u001b[0;34m\u001b[0m\u001b[0m\n\u001b[1;32m     51\u001b[0m             \u001b[0mlive_start_date\u001b[0m\u001b[0;34m=\u001b[0m\u001b[0;34m'2016-01-01'\u001b[0m\u001b[0;34m,\u001b[0m  \u001b[0;31m# This date is sample specific\u001b[0m\u001b[0;34m\u001b[0m\u001b[0m\n\u001b[0;32m---> 52\u001b[0;31m             round_trips=True)\n\u001b[0m",
      "\u001b[0;32m/anaconda3/envs/ipykernel_py3/lib/python3.6/site-packages/pyfolio/tears.py\u001b[0m in \u001b[0;36mcreate_full_tear_sheet\u001b[0;34m(returns, positions, transactions, market_data, benchmark_rets, gross_lev, slippage, live_start_date, sector_mappings, bayesian, round_trips, hide_positions, cone_std, bootstrap, unadjusted_returns, set_context)\u001b[0m\n\u001b[1;32m    168\u001b[0m         \u001b[0mbenchmark_rets\u001b[0m\u001b[0;34m=\u001b[0m\u001b[0mbenchmark_rets\u001b[0m\u001b[0;34m,\u001b[0m\u001b[0;34m\u001b[0m\u001b[0m\n\u001b[1;32m    169\u001b[0m         \u001b[0mbootstrap\u001b[0m\u001b[0;34m=\u001b[0m\u001b[0mbootstrap\u001b[0m\u001b[0;34m,\u001b[0m\u001b[0;34m\u001b[0m\u001b[0m\n\u001b[0;32m--> 170\u001b[0;31m         set_context=set_context)\n\u001b[0m\u001b[1;32m    171\u001b[0m \u001b[0;34m\u001b[0m\u001b[0m\n\u001b[1;32m    172\u001b[0m     create_interesting_times_tear_sheet(returns,\n",
      "\u001b[0;32m/anaconda3/envs/ipykernel_py3/lib/python3.6/site-packages/pyfolio/plotting.py\u001b[0m in \u001b[0;36mcall_w_context\u001b[0;34m(*args, **kwargs)\u001b[0m\n\u001b[1;32m     47\u001b[0m         \u001b[0;32mif\u001b[0m \u001b[0mset_context\u001b[0m\u001b[0;34m:\u001b[0m\u001b[0;34m\u001b[0m\u001b[0m\n\u001b[1;32m     48\u001b[0m             \u001b[0;32mwith\u001b[0m \u001b[0mcontext\u001b[0m\u001b[0;34m(\u001b[0m\u001b[0;34m)\u001b[0m\u001b[0;34m:\u001b[0m\u001b[0;34m\u001b[0m\u001b[0m\n\u001b[0;32m---> 49\u001b[0;31m                 \u001b[0;32mreturn\u001b[0m \u001b[0mfunc\u001b[0m\u001b[0;34m(\u001b[0m\u001b[0;34m*\u001b[0m\u001b[0margs\u001b[0m\u001b[0;34m,\u001b[0m \u001b[0;34m**\u001b[0m\u001b[0mkwargs\u001b[0m\u001b[0;34m)\u001b[0m\u001b[0;34m\u001b[0m\u001b[0m\n\u001b[0m\u001b[1;32m     50\u001b[0m         \u001b[0;32melse\u001b[0m\u001b[0;34m:\u001b[0m\u001b[0;34m\u001b[0m\u001b[0m\n\u001b[1;32m     51\u001b[0m             \u001b[0;32mreturn\u001b[0m \u001b[0mfunc\u001b[0m\u001b[0;34m(\u001b[0m\u001b[0;34m*\u001b[0m\u001b[0margs\u001b[0m\u001b[0;34m,\u001b[0m \u001b[0;34m**\u001b[0m\u001b[0mkwargs\u001b[0m\u001b[0;34m)\u001b[0m\u001b[0;34m\u001b[0m\u001b[0m\n",
      "\u001b[0;32m/anaconda3/envs/ipykernel_py3/lib/python3.6/site-packages/pyfolio/tears.py\u001b[0m in \u001b[0;36mcreate_returns_tear_sheet\u001b[0;34m(returns, live_start_date, cone_std, benchmark_rets, bootstrap, return_fig)\u001b[0m\n\u001b[1;32m    263\u001b[0m     plotting.show_perf_stats(returns, benchmark_rets,\n\u001b[1;32m    264\u001b[0m                              \u001b[0mbootstrap\u001b[0m\u001b[0;34m=\u001b[0m\u001b[0mbootstrap\u001b[0m\u001b[0;34m,\u001b[0m\u001b[0;34m\u001b[0m\u001b[0m\n\u001b[0;32m--> 265\u001b[0;31m                              live_start_date=live_start_date)\n\u001b[0m\u001b[1;32m    266\u001b[0m \u001b[0;34m\u001b[0m\u001b[0m\n\u001b[1;32m    267\u001b[0m     \u001b[0mvertical_sections\u001b[0m \u001b[0;34m=\u001b[0m \u001b[0;36m12\u001b[0m\u001b[0;34m\u001b[0m\u001b[0m\n",
      "\u001b[0;32m/anaconda3/envs/ipykernel_py3/lib/python3.6/site-packages/pyfolio/plotting.py\u001b[0m in \u001b[0;36mshow_perf_stats\u001b[0;34m(returns, factor_returns, live_start_date, bootstrap)\u001b[0m\n\u001b[1;32m    554\u001b[0m     perf_stats = perf_func(\n\u001b[1;32m    555\u001b[0m         \u001b[0mreturns_backtest\u001b[0m\u001b[0;34m,\u001b[0m\u001b[0;34m\u001b[0m\u001b[0m\n\u001b[0;32m--> 556\u001b[0;31m         factor_returns=factor_returns)\n\u001b[0m\u001b[1;32m    557\u001b[0m \u001b[0;34m\u001b[0m\u001b[0m\n\u001b[1;32m    558\u001b[0m     \u001b[0;32mif\u001b[0m \u001b[0mlive_start_date\u001b[0m \u001b[0;32mis\u001b[0m \u001b[0;32mnot\u001b[0m \u001b[0;32mNone\u001b[0m\u001b[0;34m:\u001b[0m\u001b[0;34m\u001b[0m\u001b[0m\n",
      "\u001b[0;32m/anaconda3/envs/ipykernel_py3/lib/python3.6/site-packages/pyfolio/timeseries.py\u001b[0m in \u001b[0;36mperf_stats\u001b[0;34m(returns, factor_returns)\u001b[0m\n\u001b[1;32m    782\u001b[0m \u001b[0;34m\u001b[0m\u001b[0m\n\u001b[1;32m    783\u001b[0m     \u001b[0;32mfor\u001b[0m \u001b[0mstat_func\u001b[0m \u001b[0;32min\u001b[0m \u001b[0mSIMPLE_STAT_FUNCS\u001b[0m\u001b[0;34m:\u001b[0m\u001b[0;34m\u001b[0m\u001b[0m\n\u001b[0;32m--> 784\u001b[0;31m         \u001b[0mstats\u001b[0m\u001b[0;34m[\u001b[0m\u001b[0mstat_func\u001b[0m\u001b[0;34m.\u001b[0m\u001b[0m__name__\u001b[0m\u001b[0;34m]\u001b[0m \u001b[0;34m=\u001b[0m \u001b[0mstat_func\u001b[0m\u001b[0;34m(\u001b[0m\u001b[0mreturns\u001b[0m\u001b[0;34m)\u001b[0m\u001b[0;34m\u001b[0m\u001b[0m\n\u001b[0m\u001b[1;32m    785\u001b[0m \u001b[0;34m\u001b[0m\u001b[0m\n\u001b[1;32m    786\u001b[0m     \u001b[0;32mif\u001b[0m \u001b[0mfactor_returns\u001b[0m \u001b[0;32mis\u001b[0m \u001b[0;32mnot\u001b[0m \u001b[0;32mNone\u001b[0m\u001b[0;34m:\u001b[0m\u001b[0;34m\u001b[0m\u001b[0m\n",
      "\u001b[0;32m/anaconda3/envs/ipykernel_py3/lib/python3.6/site-packages/pyfolio/timeseries.py\u001b[0m in \u001b[0;36mstability_of_timeseries\u001b[0;34m(returns)\u001b[0m\n\u001b[1;32m    484\u001b[0m     \u001b[0mcum_log_returns\u001b[0m \u001b[0;34m=\u001b[0m \u001b[0mnp\u001b[0m\u001b[0;34m.\u001b[0m\u001b[0mlog1p\u001b[0m\u001b[0;34m(\u001b[0m\u001b[0mreturns\u001b[0m\u001b[0;34m)\u001b[0m\u001b[0;34m.\u001b[0m\u001b[0mcumsum\u001b[0m\u001b[0;34m(\u001b[0m\u001b[0;34m)\u001b[0m\u001b[0;34m\u001b[0m\u001b[0m\n\u001b[1;32m    485\u001b[0m     rhat = stats.linregress(np.arange(len(cum_log_returns)),\n\u001b[0;32m--> 486\u001b[0;31m                             cum_log_returns.values)[2]\n\u001b[0m\u001b[1;32m    487\u001b[0m \u001b[0;34m\u001b[0m\u001b[0m\n\u001b[1;32m    488\u001b[0m     \u001b[0;32mreturn\u001b[0m \u001b[0mrhat\u001b[0m\u001b[0;34m\u001b[0m\u001b[0m\n",
      "\u001b[0;32m/anaconda3/envs/ipykernel_py3/lib/python3.6/site-packages/scipy/stats/_stats_mstats_common.py\u001b[0m in \u001b[0;36mlinregress\u001b[0;34m(x, y)\u001b[0m\n\u001b[1;32m     84\u001b[0m \u001b[0;34m\u001b[0m\u001b[0m\n\u001b[1;32m     85\u001b[0m     \u001b[0;32mif\u001b[0m \u001b[0mx\u001b[0m\u001b[0;34m.\u001b[0m\u001b[0msize\u001b[0m \u001b[0;34m==\u001b[0m \u001b[0;36m0\u001b[0m \u001b[0;32mor\u001b[0m \u001b[0my\u001b[0m\u001b[0;34m.\u001b[0m\u001b[0msize\u001b[0m \u001b[0;34m==\u001b[0m \u001b[0;36m0\u001b[0m\u001b[0;34m:\u001b[0m\u001b[0;34m\u001b[0m\u001b[0m\n\u001b[0;32m---> 86\u001b[0;31m         \u001b[0;32mraise\u001b[0m \u001b[0mValueError\u001b[0m\u001b[0;34m(\u001b[0m\u001b[0;34m\"Inputs must not be empty.\"\u001b[0m\u001b[0;34m)\u001b[0m\u001b[0;34m\u001b[0m\u001b[0m\n\u001b[0m\u001b[1;32m     87\u001b[0m \u001b[0;34m\u001b[0m\u001b[0m\n\u001b[1;32m     88\u001b[0m     \u001b[0mn\u001b[0m \u001b[0;34m=\u001b[0m \u001b[0mlen\u001b[0m\u001b[0;34m(\u001b[0m\u001b[0mx\u001b[0m\u001b[0;34m)\u001b[0m\u001b[0;34m\u001b[0m\u001b[0m\n",
      "\u001b[0;31mValueError\u001b[0m: Inputs must not be empty."
     ]
    }
   ],
   "source": [
    "BacktraderWrapper(startCash=100000).RunBackTest()"
   ]
  },
  {
   "cell_type": "code",
   "execution_count": null,
   "metadata": {},
   "outputs": [],
   "source": []
  }
 ],
 "metadata": {
  "kernelspec": {
   "display_name": "Python 3",
   "language": "python",
   "name": "python3"
  },
  "language_info": {
   "codemirror_mode": {
    "name": "ipython",
    "version": 3
   },
   "file_extension": ".py",
   "mimetype": "text/x-python",
   "name": "python",
   "nbconvert_exporter": "python",
   "pygments_lexer": "ipython3",
   "version": "3.6.5"
  }
 },
 "nbformat": 4,
 "nbformat_minor": 2
}
