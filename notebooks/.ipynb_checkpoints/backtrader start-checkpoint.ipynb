{
 "cells": [
  {
   "cell_type": "code",
   "execution_count": 2,
   "metadata": {},
   "outputs": [],
   "source": [
    "import importlib.util"
   ]
  },
  {
   "cell_type": "code",
   "execution_count": 3,
   "metadata": {},
   "outputs": [],
   "source": [
    "from __future__ import (absolute_import, division, print_function,\n",
    "                        unicode_literals)\n",
    "import backtrader as bt\n",
    "from datetime import datetime"
   ]
  },
  {
   "cell_type": "code",
   "execution_count": 4,
   "metadata": {},
   "outputs": [],
   "source": [
    "spec = importlib.util.spec_from_file_location(\"PandasRepo\", \"/Users/dennis/PycharmProjects/IbTrader/PandasRepo.py\")\n",
    "PandasRepoModule = importlib.util.module_from_spec(spec)\n",
    "spec.loader.exec_module(PandasRepoModule)"
   ]
  },
  {
   "cell_type": "code",
   "execution_count": 5,
   "metadata": {},
   "outputs": [],
   "source": [
    "class FirstBacktraderStrategy(bt.Strategy):\n",
    "\n",
    "    def __init__(self):\n",
    "        self.rsi = dict()\n",
    "        for symbol in self.getdatanames():\n",
    "            self.rsi[symbol] = bt.indicators.RSI_SMA(self.getdatabyname(symbol).close, period=21)\n",
    "\n",
    "    def next(self):\n",
    "        for symbol in self.getdatanames():\n",
    "            pos = self.getpositionbyname(symbol).size or 0\n",
    "            if pos == 0:\n",
    "                if self.rsi[symbol][0] < 30:\n",
    "                    self.buy(data=self.getdatabyname(symbol), size=100)\n",
    "            else:\n",
    "                if self.rsi[symbol][0] > 70:\n",
    "                    self.sell(data=self.getdatabyname(symbol), size=100)"
   ]
  },
  {
   "cell_type": "code",
   "execution_count": 6,
   "metadata": {},
   "outputs": [],
   "source": [
    "class BacktraderWrapper:\n",
    "    def __init__(self,\n",
    "                 startCash = 10000,\n",
    "                 universe = [\"IYM\", \"IYC\", \"IYK\", \"IYE\", \"IYF\", \"IYH\", \"IYR\", \"IYW\", \"IDU\"],\n",
    "                 startDate = datetime(2016, 1, 1),\n",
    "                 endDate = datetime(2016, 12, 31)):\n",
    "        self._startCash = startCash\n",
    "        self._universe = universe\n",
    "        self._startDate = startDate\n",
    "        self._endDate = endDate\n",
    "\n",
    "    def RunBackTest(self):\n",
    "        # Create an instance of cerebro\n",
    "        cerebro = bt.Cerebro()\n",
    "\n",
    "        # Add our strategy\n",
    "        cerebro.addstrategy(FirstBacktraderStrategy)\n",
    "\n",
    "        # Add data feed\n",
    "        for symbol in self._universe:\n",
    "            df = PandasRepoModule.PandasRepo().GetData(symbol, self._startDate, self._endDate)\n",
    "            data = bt.feeds.PandasData(dataname=df)\n",
    "            cerebro.adddata(data, name=symbol)\n",
    "\n",
    "        # Set our desired cash start\n",
    "        cerebro.broker.setcash(self._startCash)\n",
    "\n",
    "        # Set up pyfolio\n",
    "        cerebro.addanalyzer(bt.analyzers.PyFolio, _name='pyfolio')\n",
    "\n",
    "        # Run over everything\n",
    "        results = cerebro.run()\n",
    "        print('Final Portfolio Value: %.2f' % cerebro.broker.getvalue())"
   ]
  },
  {
   "cell_type": "code",
   "execution_count": 8,
   "metadata": {},
   "outputs": [
    {
     "name": "stdout",
     "output_type": "stream",
     "text": [
      "Final Portfolio Value: 104128.00\n"
     ]
    }
   ],
   "source": [
    "BacktraderWrapper(startCash=100000).RunBackTest()"
   ]
  },
  {
   "cell_type": "code",
   "execution_count": null,
   "metadata": {},
   "outputs": [],
   "source": []
  }
 ],
 "metadata": {
  "kernelspec": {
   "display_name": "Python 3",
   "language": "python",
   "name": "python3"
  },
  "language_info": {
   "codemirror_mode": {
    "name": "ipython",
    "version": 3
   },
   "file_extension": ".py",
   "mimetype": "text/x-python",
   "name": "python",
   "nbconvert_exporter": "python",
   "pygments_lexer": "ipython3",
   "version": "3.6.5"
  }
 },
 "nbformat": 4,
 "nbformat_minor": 2
}
