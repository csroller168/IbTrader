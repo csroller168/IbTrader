{
 "cells": [
  {
   "cell_type": "markdown",
   "metadata": {},
   "source": [
    "# Notebook based on the famous 1998 paper by Emanuel Derman:"
   ]
  },
  {
   "cell_type": "markdown",
   "metadata": {},
   "source": [
    "# When You Cannot Hedge Continuously: The Corrections to Black-Scholes"
   ]
  },
  {
   "cell_type": "markdown",
   "metadata": {},
   "source": [
    "The insight behind the Black-Scholes formula for options valuation is the recognition that, if you know the future volatility of a stock, you can replicate an option payoff exactly by a continuous rebalancing of a portfolio consisting of the underlying stock and a risk-free bond. If no arbitrage is possible, then the value of the option should be the cost of the replication strategy.\n",
    "It is widely recognized that the Black-Scholes model is imperfect in many respects. It makes the idealized assumption that future stock evolution is lognormal with a known volatility, it ignores transaction costs and market impact, and it assumes that trading can be carried out continuously. Nevertheless the model is rational, and therefore amenable to rational modification of its assumptions and results; the Black-Scholes theory can be used to investigate its own shortcomings. This is an active area of research for the Quantitative Strategies Group at Goldman Sachs.\n",
    "In this note we examine the effect of dropping only one of the key Black-Scholes assumptions, that of the possibility of continuous hedging. We examine the error that arises when you replicate a single option throughout its lifetime according to the Black-Scholes replication strategy, with the constraint that only a discrete number of rebalancing trades at regular intervals are allowed. To study the replication error, we carry out Monte Carlo simulations of the Black-Scholes hedging strategy for a single European-style option and analyze the resulting uncertainty (that is, the error) in the replication value. We will show that that these errors follow a simple rule-of-thumb that is related to statistical uncertainty that arises in estimating volatility from a discrete number of observations: the typical error in the replication value is proportional to the vega of the option (its volatility sensitivity, sometimes also called kappa) multiplied by the uncertainty in its observed volatility."
   ]
  },
  {
   "cell_type": "markdown",
   "metadata": {},
   "source": [
    "## Simulating The Hedging Scenario and Calculating the Replication Error"
   ]
  },
  {
   "cell_type": "markdown",
   "metadata": {},
   "source": [
    "Suppose at time t = 0 the option hedger sells a European put with strike K and expiration t = T, and receives the Black-Scholes value as the options premium. We assume that the world operates within the Black-Scholes framework: the underlying stock price evolves lognormally with a fixed known volatility $\\sigma$ that stays constant throughout time. For simplicity, we assume the stock pays no dividends.\n",
    "The hedger now follows a Black-Scholes hedging strategy, rehedging at discrete, evenly spaced time intervals as the underlying stock changes. At expiration, the hedger delivers the option payoff to the option holder, and unwinds the hedge. We are interested in understanding the final profit or loss of this strategy:"
   ]
  },
  {
   "cell_type": "markdown",
   "metadata": {},
   "source": [
    "Value of Final P&L = Black-Scholes hedge at T - Final option payoff"
   ]
  },
  {
   "cell_type": "markdown",
   "metadata": {},
   "source": [
    "### Time to start coding"
   ]
  },
  {
   "cell_type": "code",
   "execution_count": 1,
   "metadata": {},
   "outputs": [],
   "source": [
    "from __future__ import division"
   ]
  },
  {
   "cell_type": "markdown",
   "metadata": {},
   "source": [
    "Import modules"
   ]
  },
  {
   "cell_type": "code",
   "execution_count": 2,
   "metadata": {},
   "outputs": [],
   "source": [
    "import numpy as np\n",
    "import matplotlib.pyplot as plt\n",
    "import pandas as pd\n",
    "import scipy.stats as st"
   ]
  },
  {
   "cell_type": "code",
   "execution_count": 3,
   "metadata": {},
   "outputs": [],
   "source": [
    "%matplotlib inline"
   ]
  },
  {
   "cell_type": "markdown",
   "metadata": {},
   "source": [
    "We'll start with the simulation of paths, and that starts with random samples from a standard normal distribution"
   ]
  },
  {
   "cell_type": "code",
   "execution_count": 4,
   "metadata": {},
   "outputs": [],
   "source": [
    "nmdt=pd.Series(np.random.standard_normal(10000))"
   ]
  },
  {
   "cell_type": "markdown",
   "metadata": {},
   "source": [
    "They look normal to me:"
   ]
  },
  {
   "cell_type": "code",
   "execution_count": 5,
   "metadata": {},
   "outputs": [
    {
     "data": {
      "text/plain": [
       "<matplotlib.axes._subplots.AxesSubplot at 0x10d4d1650>"
      ]
     },
     "execution_count": 5,
     "metadata": {},
     "output_type": "execute_result"
    },
    {
     "data": {
      "image/png": "[encoded data removed]",
      "text/plain": [
       "<matplotlib.figure.Figure at 0x10d4c4fd0>"
      ]
     },
     "metadata": {},
     "output_type": "display_data"
    }
   ],
   "source": [
    "nmdt.plot(kind='hist', bins=20)"
   ]
  },
  {
   "cell_type": "markdown",
   "metadata": {},
   "source": [
    "Auxiliary functions"
   ]
  },
  {
   "cell_type": "code",
   "execution_count": 6,
   "metadata": {},
   "outputs": [],
   "source": [
    "def ca(x,size):\n",
    "    y=np.empty(size)\n",
    "    y.fill(x)\n",
    "    return y"
   ]
  },
  {
   "cell_type": "code",
   "execution_count": 7,
   "metadata": {},
   "outputs": [],
   "source": [
    "def ppzero(s):\n",
    "    return pd.Series(pd.Series.append(pd.Series([0]),s).values)"
   ]
  },
  {
   "cell_type": "markdown",
   "metadata": {},
   "source": [
    "Monte Carlo path generator"
   ]
  },
  {
   "cell_type": "code",
   "execution_count": 8,
   "metadata": {},
   "outputs": [],
   "source": [
    "def mcpath(nsteps, S0, drift, vol, t):\n",
    "    # generate random numbers\n",
    "    nmdr=pd.Series(np.random.standard_normal(nsteps))\n",
    "    # find each step\n",
    "    dt=t*1/nsteps\n",
    "    ts=pd.Series(ca(dt,nsteps))\n",
    "    ts0=ppzero(ts)\n",
    "    s1=(drift-(vol**2)/2)*dt\n",
    "    s2=vol*np.sqrt(dt)\n",
    "    steps=s1*pd.Series(ca(1,nsteps))+s2*nmdr\n",
    "    steps0=ppzero(steps)\n",
    "    # add steps\n",
    "    cmsteps=steps0.cumsum()\n",
    "    cts=ts0.cumsum()\n",
    "    # convert steps to path\n",
    "    Sj=S0*np.exp(cmsteps.values)\n",
    "    # return timeseries [t,St]\n",
    "    return pd.Series(Sj,index=cts.values)"
   ]
  },
  {
   "cell_type": "code",
   "execution_count": 9,
   "metadata": {},
   "outputs": [],
   "source": [
    "testpath=mcpath(10,100,0.10,0.20,1)"
   ]
  },
  {
   "cell_type": "code",
   "execution_count": 10,
   "metadata": {},
   "outputs": [
    {
     "data": {
      "text/plain": [
       "<matplotlib.axes._subplots.AxesSubplot at 0x10d4f8590>"
      ]
     },
     "execution_count": 10,
     "metadata": {},
     "output_type": "execute_result"
    },
    {
     "data": {
      "image/png": "[encoded data removed]",
      "text/plain": [
       "<matplotlib.figure.Figure at 0x10d517250>"
      ]
     },
     "metadata": {},
     "output_type": "display_data"
    }
   ],
   "source": [
    "testpath.plot()"
   ]
  },
  {
   "cell_type": "markdown",
   "metadata": {},
   "source": [
    "Monte Carlo path generator with downsampling (returns both paths, original and downsampled)"
   ]
  },
  {
   "cell_type": "code",
   "execution_count": 11,
   "metadata": {},
   "outputs": [],
   "source": [
    "def mcpathsmpl(nsteps, smpl, S0, drift, vol, t):\n",
    "    # generate random numbers\n",
    "    nmdr=pd.Series(np.random.standard_normal(nsteps))\n",
    "    # find each step\n",
    "    dt=t*1/nsteps\n",
    "    ts=pd.Series(ca(dt,nsteps))\n",
    "    ts0=ppzero(ts)\n",
    "    s1=(drift-(vol**2)/2)*dt\n",
    "    s2=vol*np.sqrt(dt)\n",
    "    steps=s1*pd.Series(ca(1,nsteps))+s2*nmdr\n",
    "    steps0=ppzero(steps)\n",
    "    # add steps\n",
    "    cmsteps=steps0.cumsum()\n",
    "    cts=ts0.cumsum()\n",
    "    # convert steps to path\n",
    "    Sj=S0*np.exp(cmsteps.values)\n",
    "    # create timeseries [t,St]\n",
    "    ans1=pd.Series(Sj,index=cts.values)\n",
    "    # create timeseries [t,St] downsampled\n",
    "    ans2=pd.Series(Sj.take(range(0,nsteps+1,smpl)),index=cts.values.take(range(0,nsteps+1,smpl)))\n",
    "    return [ans1, ans2]"
   ]
  },
  {
   "cell_type": "code",
   "execution_count": 12,
   "metadata": {},
   "outputs": [],
   "source": [
    "testpath2=mcpathsmpl(20,4,100,0.10,0.20,1)"
   ]
  },
  {
   "cell_type": "markdown",
   "metadata": {},
   "source": [
    "Monte Carlo paths generator with downsampling (returns for each desired path the original and downsampled path)"
   ]
  },
  {
   "cell_type": "code",
   "execution_count": 13,
   "metadata": {},
   "outputs": [],
   "source": [
    "def mcpathssmpl(npaths, nsteps, smpl, S0, drift, vol, t):\n",
    "    # generate npaths using mcpath\n",
    "    paths=[mcpathsmpl(nsteps, smpl, S0, drift, vol, t) for j in range(npaths)]\n",
    "    return paths"
   ]
  },
  {
   "cell_type": "code",
   "execution_count": 14,
   "metadata": {},
   "outputs": [],
   "source": [
    "testpath3=mcpathssmpl(3,20,4,100,0.10,0.20,1)"
   ]
  },
  {
   "cell_type": "markdown",
   "metadata": {},
   "source": [
    "Defining the Black&Scholes function"
   ]
  },
  {
   "cell_type": "code",
   "execution_count": 15,
   "metadata": {},
   "outputs": [],
   "source": [
    "def bsv(phi,S,K,r,q,vol,t):\n",
    "    fwd=S*np.exp((r-q)*t)\n",
    "    efv=t*(vol**2)\n",
    "    # calculate d1 and d2\n",
    "    d1=(np.log(fwd/K)+(efv/2))/(np.sqrt(efv))\n",
    "    d2=(np.log(fwd/K)-(efv/2))/(np.sqrt(efv))\n",
    "    # calculate N(d1) and N(d2)\n",
    "    Nd1=st.norm.cdf(phi*d1)\n",
    "    Nd2=st.norm.cdf(phi*d2)\n",
    "    # calculate premium, delta\n",
    "    de=phi*np.exp(-q*t)*Nd1\n",
    "    pr=phi*S*np.exp(-q*t)*Nd1-phi*K*np.exp(-r*t)*Nd2\n",
    "    return [pr,de]"
   ]
  },
  {
   "cell_type": "markdown",
   "metadata": {},
   "source": [
    "Defining parameters"
   ]
  },
  {
   "cell_type": "code",
   "execution_count": 16,
   "metadata": {},
   "outputs": [],
   "source": [
    "S0=100\n",
    "phi=1\n",
    "K=100\n",
    "r=0.05\n",
    "q=0\n",
    "vol=0.20\n",
    "T=1/12\n",
    "nst1=21\n",
    "smpl=4\n",
    "nst2=nst1*smpl\n",
    "npth=50000"
   ]
  },
  {
   "cell_type": "code",
   "execution_count": 17,
   "metadata": {},
   "outputs": [
    {
     "data": {
      "text/plain": [
       "[[2.5120670860398917, 0.54023917666658061],\n",
       " [2.0962672705508751, -0.45976082333341939]]"
      ]
     },
     "execution_count": 17,
     "metadata": {},
     "output_type": "execute_result"
    }
   ],
   "source": [
    "[bsv(phi,S0,K,r,q,vol,T),bsv(-phi,S0,K,r,q,vol,T)]"
   ]
  },
  {
   "cell_type": "code",
   "execution_count": 18,
   "metadata": {},
   "outputs": [
    {
     "data": {
      "text/plain": [
       "2.5120670860398917"
      ]
     },
     "execution_count": 18,
     "metadata": {},
     "output_type": "execute_result"
    }
   ],
   "source": [
    "callpr=bsv(phi,S0,K,r,q,vol,T)[0]\n",
    "callpr"
   ]
  },
  {
   "cell_type": "markdown",
   "metadata": {},
   "source": [
    "If the hedger had followed the exact Black-Scholes replication strategy, rehedging continuously as the underlying stock evolved towards its final value at expiration, then, no matter what path the stock took, the final P&L would be exactly zero. This is the essence of the statement that the Black-Scholes formula provides the ''fair'' value of the option. When the replication strategy deviates from the exact Black-Scholes method, the final P&L may deviate from zero. This deviation is called the replication error.\n",
    "When the hedger rebalances at discrete rather than continuous intervals, the hedge is imperfect and the replication is inexact. Sometimes this imperfection favors the P&L, sometimes it penalizes it. The more often hedging occurs, the smaller the replication error.\n",
    "To examine the range of possibilities, we have carried out Monte Carlo simulations in which we evaluate the outcome of the discrete hedging strategy over 50,000 different, randomly generated scenarios of future stock price evolution, assuming that the future stock price grows at a continuously compounded rate equal to the discount rate r = 5%, and with a volatility $\\sigma$ = 20%. In each scenario we carry out N rehedging trades spaced evenly in time over the life of the option, using the Black-Scholes hedge ratio (also calculated with r = 5%, and $\\sigma$ = 20%).\n",
    "Exhibit 1 shows histograms for the final P&L for a one-month at-the-money put hedged, at discrete times, to expiration. The initial stock price is taken to be S0 = 100, with the strike K also at a level of 100 and an option time to expiration of T = 1/12 years. The fair Black-Scholes value of the option is C0=2.512. In Exhibit 1a, the option is hedged, approximately once per business day; in Exhibit 1b the option is hedged 84 times, or four times as frequently. Table 1 summarizes the mean and standard deviation of the final P&L from the 50,000 scenario.\n",
    "We can draw several conclusions from these results. First, within the statistical error of the simulations, the average final profit/loss is zero. Hedging discretely does not bias the outcome in either direction when all other parameters (volatility, rates, dividends) are known correctly. Second, hedging more frequently reduces the standard deviation of the P&L. The standard deviation, as a fraction of the option premium is 16.3% for N = 21, and 8.1% for N = 84; hedging four times as frequently roughly halves the standard deviation of the replication error. Third, the final distribution of replication error resembles a normal distribution, which means characterizing risk in terms of a standard deviation of the distribution makes good sense. Even though the standard deviation is 16% of premium for daily rehedging, there is a normally distributed probability of much larger hedging errors, both positive and negative."
   ]
  },
  {
   "cell_type": "code",
   "execution_count": 19,
   "metadata": {},
   "outputs": [],
   "source": [
    "allpaths=mcpathssmpl(npth,nst2,smpl,S0,r-q,vol,T)"
   ]
  },
  {
   "cell_type": "code",
   "execution_count": 20,
   "metadata": {},
   "outputs": [],
   "source": [
    "allpaths84=[allpaths[j][0] for j in range(npth)]\n",
    "allpaths21=[allpaths[j][1] for j in range(npth)]"
   ]
  },
  {
   "cell_type": "code",
   "execution_count": 21,
   "metadata": {},
   "outputs": [
    {
     "data": {
      "text/plain": [
       "<matplotlib.axes._subplots.AxesSubplot at 0x11a46fd90>"
      ]
     },
     "execution_count": 21,
     "metadata": {},
     "output_type": "execute_result"
    },
    {
     "data": {
      "image/png": "[encoded data removed]",
      "text/plain": [
       "<matplotlib.figure.Figure at 0x10d517490>"
      ]
     },
     "metadata": {},
     "output_type": "display_data"
    }
   ],
   "source": [
    "allpaths[0][0].plot()\n",
    "allpaths[0][1].plot()"
   ]
  },
  {
   "cell_type": "code",
   "execution_count": 22,
   "metadata": {},
   "outputs": [
    {
     "data": {
      "text/plain": [
       "<matplotlib.axes._subplots.AxesSubplot at 0x11a4a72d0>"
      ]
     },
     "execution_count": 22,
     "metadata": {},
     "output_type": "execute_result"
    },
    {
     "data": {
      "image/png": "[encoded data removed]",
      "text/plain": [
       "<matplotlib.figure.Figure at 0x11a5beed0>"
      ]
     },
     "metadata": {},
     "output_type": "display_data"
    }
   ],
   "source": [
    "allpaths84[0].plot()\n",
    "allpaths21[0].plot()"
   ]
  },
  {
   "cell_type": "code",
   "execution_count": null,
   "metadata": {
    "collapsed": true
   },
   "outputs": [],
   "source": [
    "# calculate portfolio given path\n",
    "# calculate P&L and cashflow of portfolio"
   ]
  },
  {
   "cell_type": "code",
   "execution_count": 89,
   "metadata": {},
   "outputs": [],
   "source": [
    "def calcpath(path,phi,K,r,q,vol,T):\n",
    "    ttm=T-path.index\n",
    "    bsvpath=np.array([[path.index[j],path.values[j]]+bsv(phi,path.values[j],K,r,q,vol,ttm[j])\\\n",
    "                      for j in range(len(path))])\n",
    "    return pd.DataFrame(bsvpath,columns=['time','spot','premium','delta'])"
   ]
  },
  {
   "cell_type": "code",
   "execution_count": 255,
   "metadata": {
    "collapsed": true
   },
   "outputs": [],
   "source": [
    "def filldf(path,phi,K,r,q,vol,T):\n",
    "    nstp=len(path)-1\n",
    "    # calculate t,S(t),premium(t),delta(t)\n",
    "    df=calcpath(path,phi,K,r,q,vol,T)\n",
    "    # cashflows for the option\n",
    "    df['cfwprem']=0\n",
    "    df.loc[0,'cfwprem']=-df['premium'][0]\n",
    "    df.loc[nstp,'cfwprem']=df['premium'][nstp]\n",
    "    df.loc[nstp,'premium']=0\n",
    "    # calculate time intervals dt\n",
    "    df['timechg']=df['time'].diff()\n",
    "    df.loc[0,'timechg']=0\n",
    "    # calculate changes in delta\n",
    "    df.loc[nstp,'delta']=0\n",
    "    df['dltchg']=df['delta'].diff()\n",
    "    df.loc[0,'dltchg']=0\n",
    "    # calculate changes in spot price\n",
    "    df['spotchg']=df['spot'].diff()\n",
    "    df.loc[0,'spotchg']=0\n",
    "    # cashflows for the asset\n",
    "    df['cfwspot']=0\n",
    "    df.loc[0,'cfwspot']=df['delta'][0]*df['spot'][0]\n",
    "    df.loc[1:,'cfwspot']=df['dltchg'][1:]*df['spot'][1:]\n",
    "    # dividend cashflows\n",
    "    df['cfwdivid']=0\n",
    "    df.loc[1:,'cfwdivid']=-((df['delta'][0:nstp]*df['spot'][0:nstp]).values)*(np.exp(q*df['timechg'][1:].values)-1)\n",
    "    # cashflows before interest\n",
    "    df['cfwprer']=df['cfwprem']+df['cfwspot']+df['cfwdivid']\n",
    "    # interest and consolidation of cashflows\n",
    "    df['balance']=0\n",
    "    df.loc[0,'balance']=df['cfwprer'][0]\n",
    "    for j in range(1,nstp+1):\n",
    "        df.loc[j,'balance']=df['balance'][j-1]*(np.exp(r*df['timechg'][j]))+df['cfwprer'][j]\n",
    "    # portfolio\n",
    "    df['portf']=df['premium']-df['delta']*df['spot']+df['balance']\n",
    "    # consolidated discount factor\n",
    "    return df"
   ]
  },
  {
   "cell_type": "code",
   "execution_count": 215,
   "metadata": {},
   "outputs": [],
   "source": [
    "#filldf(allpaths[0][0],phi,K,r,q,vol,T)"
   ]
  },
  {
   "cell_type": "code",
   "execution_count": 219,
   "metadata": {},
   "outputs": [],
   "source": [
    "def portfolio(path,phi,K,r,q,vol,T):\n",
    "    fulldf=filldf(path,phi,K,r,q,vol,T)\n",
    "    return pd.Series(fulldf['portf'].values)"
   ]
  },
  {
   "cell_type": "code",
   "execution_count": 227,
   "metadata": {},
   "outputs": [],
   "source": [
    "#portfolio(allpaths[0][0],phi,K,r,q,vol,T)"
   ]
  },
  {
   "cell_type": "code",
   "execution_count": 257,
   "metadata": {},
   "outputs": [],
   "source": [
    "def finalpl(path,phi,K,r,q,vol,T):\n",
    "    portf=portfolio(path,phi,K,r,q,vol,T)\n",
    "    return portf[len(path)-1]"
   ]
  },
  {
   "cell_type": "code",
   "execution_count": 240,
   "metadata": {},
   "outputs": [
    {
     "data": {
      "text/plain": [
       "<matplotlib.axes._subplots.AxesSubplot at 0x11a9c2a50>"
      ]
     },
     "execution_count": 240,
     "metadata": {},
     "output_type": "execute_result"
    },
    {
     "data": {
      "image/png": "[encoded data removed]",
      "text/plain": [
       "<matplotlib.figure.Figure at 0x127075310>"
      ]
     },
     "metadata": {},
     "output_type": "display_data"
    }
   ],
   "source": [
    "allpaths[0][0].plot()\n",
    "allpaths[1][0].plot()"
   ]
  },
  {
   "cell_type": "code",
   "execution_count": 258,
   "metadata": {},
   "outputs": [
    {
     "data": {
      "text/plain": [
       "0.36989658890500721"
      ]
     },
     "execution_count": 258,
     "metadata": {},
     "output_type": "execute_result"
    }
   ],
   "source": [
    "finalpl(allpaths[0][0],phi,K,r,q,vol,T)"
   ]
  },
  {
   "cell_type": "code",
   "execution_count": 259,
   "metadata": {},
   "outputs": [
    {
     "data": {
      "text/plain": [
       "0.41098067330426957"
      ]
     },
     "execution_count": 259,
     "metadata": {},
     "output_type": "execute_result"
    }
   ],
   "source": [
    "finalpl(allpaths[1][0],phi,K,r,q,vol,T)"
   ]
  },
  {
   "cell_type": "code",
   "execution_count": 246,
   "metadata": {},
   "outputs": [],
   "source": [
    "def finalplpaths(paths,phi,K,r,q,vol,T):\n",
    "    pls=np.array([finalpl(path,phi,K,r,q,vol,T) for path in paths])\n",
    "    return pd.Series(pls)"
   ]
  },
  {
   "cell_type": "markdown",
   "metadata": {},
   "source": [
    "This takes forever to run"
   ]
  },
  {
   "cell_type": "code",
   "execution_count": 249,
   "metadata": {},
   "outputs": [],
   "source": [
    "pl84=finalplpaths(allpaths84,phi,K,r,q,vol,T)"
   ]
  },
  {
   "cell_type": "markdown",
   "metadata": {},
   "source": [
    "This takes 1/4 of forever to run"
   ]
  },
  {
   "cell_type": "code",
   "execution_count": 260,
   "metadata": {},
   "outputs": [],
   "source": [
    "pl21=finalplpaths(allpaths21,phi,K,r,q,vol,T)"
   ]
  },
  {
   "cell_type": "markdown",
   "metadata": {},
   "source": [
    "## Exhibit 1: Histograms for the final profit/loss of the hedging strategy for (a) 21 and (b) 84 rebalancing trades."
   ]
  },
  {
   "cell_type": "markdown",
   "metadata": {},
   "source": [
    "(a)"
   ]
  },
  {
   "cell_type": "code",
   "execution_count": 251,
   "metadata": {},
   "outputs": [
    {
     "data": {
      "text/plain": [
       "<matplotlib.axes._subplots.AxesSubplot at 0x114bc5c50>"
      ]
     },
     "execution_count": 251,
     "metadata": {},
     "output_type": "execute_result"
    },
    {
     "data": {
      "image/png": "[encoded data removed]",
      "text/plain": [
       "<matplotlib.figure.Figure at 0x1152f1a50>"
      ]
     },
     "metadata": {},
     "output_type": "display_data"
    }
   ],
   "source": [
    "(pl84).plot(kind='hist', bins=30)"
   ]
  },
  {
   "cell_type": "markdown",
   "metadata": {},
   "source": [
    "(b)"
   ]
  },
  {
   "cell_type": "code",
   "execution_count": 261,
   "metadata": {},
   "outputs": [
    {
     "data": {
      "text/plain": [
       "<matplotlib.axes._subplots.AxesSubplot at 0x115383290>"
      ]
     },
     "execution_count": 261,
     "metadata": {},
     "output_type": "execute_result"
    },
    {
     "data": {
      "image/png": "[encoded data removed]",
      "text/plain": [
       "<matplotlib.figure.Figure at 0x129444750>"
      ]
     },
     "metadata": {},
     "output_type": "display_data"
    }
   ],
   "source": [
    "(pl21).plot(kind='hist', bins=30)"
   ]
  },
  {
   "cell_type": "markdown",
   "metadata": {
    "collapsed": true
   },
   "source": [
    "## Table 1: Statistical summary of the simulated profit/loss. The fair Black-Scholes value of the option is 2.512"
   ]
  },
  {
   "cell_type": "code",
   "execution_count": 268,
   "metadata": {},
   "outputs": [
    {
     "data": {
      "text/html": [
       "<div>\n",
       "<table border=\"1\" class=\"dataframe\">\n",
       "  <thead>\n",
       "    <tr style=\"text-align: right;\">\n",
       "      <th></th>\n",
       "      <th>Mean P&amp;L</th>\n",
       "      <th>Standard Dev. of P&amp;L</th>\n",
       "      <th>StDev of P&amp;L as a % of option premium</th>\n",
       "    </tr>\n",
       "    <tr>\n",
       "      <th>Number of trades</th>\n",
       "      <th></th>\n",
       "      <th></th>\n",
       "      <th></th>\n",
       "    </tr>\n",
       "  </thead>\n",
       "  <tbody>\n",
       "    <tr>\n",
       "      <th>21</th>\n",
       "      <td>0.000671</td>\n",
       "      <td>0.427324</td>\n",
       "      <td>17.010864</td>\n",
       "    </tr>\n",
       "    <tr>\n",
       "      <th>84</th>\n",
       "      <td>0.000552</td>\n",
       "      <td>0.216944</td>\n",
       "      <td>8.636087</td>\n",
       "    </tr>\n",
       "  </tbody>\n",
       "</table>\n",
       "</div>"
      ],
      "text/plain": [
       "                  Mean P&L  Standard Dev. of P&L  \\\n",
       "Number of trades                                   \n",
       "21                0.000671              0.427324   \n",
       "84                0.000552              0.216944   \n",
       "\n",
       "                  StDev of P&L as a % of option premium  \n",
       "Number of trades                                         \n",
       "21                                            17.010864  \n",
       "84                                             8.636087  "
      ]
     },
     "execution_count": 268,
     "metadata": {},
     "output_type": "execute_result"
    }
   ],
   "source": [
    "mpl84=pl84.mean()\n",
    "mpl21=pl21.mean()\n",
    "stpl84=pl84.std()\n",
    "stpl21=pl21.std()\n",
    "stats21=np.array([mpl21,stpl21,100*stpl21/callpr])\n",
    "stats84=np.array([mpl84,stpl84,100*stpl84/callpr])\n",
    "dfsumm=pd.DataFrame([stats21,stats84],index=[nst1,nst2],\\\n",
    "                    columns=['Mean P&L', 'Standard Dev. of P&L', 'StDev of P&L as a % of option \\\n",
    "premium'])\n",
    "dfsumm.index.name='Number of trades'\n",
    "dfsumm"
   ]
  },
  {
   "cell_type": "markdown",
   "metadata": {},
   "source": [
    "## Understanding the Results Intuitively"
   ]
  },
  {
   "cell_type": "markdown",
   "metadata": {},
   "source": [
    "The simulation plots of Exhibit 1 are a compilation of numerical results. We have derived a simple analytical rule that provides good quantitative agreement with these results and lends itself to a simple intuitive interpretation; the standard deviation of the final P&L is given, to a good approximation, by:"
   ]
  },
  {
   "cell_type": "markdown",
   "metadata": {},
   "source": [
    "(1) $$\\sigma _{PL}=\\sqrt{\\frac{\\pi }{4}} \\kappa \\frac{\\sigma}{\\sqrt{N}}$$"
   ]
  },
  {
   "cell_type": "markdown",
   "metadata": {},
   "source": [
    "Here $\\kappa$ is the options vega -- the standard Black- Scholes sensitivity of the option price with respect to volatility, evaluated at the initial spot and trading date:"
   ]
  },
  {
   "cell_type": "markdown",
   "metadata": {
    "collapsed": true
   },
   "source": [
    "(2) $$\\kappa =\\frac{dC}{d\\sigma }\\left(t=0,S=S_0\\right)=\\frac{S_0 \\sqrt{T} \\exp \\left(-d_1^2\\right)}{\\sqrt{2 \\pi }}$$"
   ]
  },
  {
   "cell_type": "markdown",
   "metadata": {},
   "source": [
    "where $d_1$ is given the formula:"
   ]
  },
  {
   "cell_type": "markdown",
   "metadata": {
    "collapsed": true
   },
   "source": [
    "(3) $$d_1=\\frac{\\log \\left(\\frac{S_0}{K}\\right)+T \\left(r+\\frac{\\sigma ^2}{2}\\right)}{\\sigma  \\sqrt{T}}$$"
   ]
  },
  {
   "cell_type": "markdown",
   "metadata": {},
   "source": [
    "as is used in the Black-Scholes formula. The number of times the hedger can rebalance is given by N. If you rebalance four times as frequently, you halve the typical size of the hedging error. The numerical prefactor, $\\sqrt{\\frac{\\pi }{4}}$ is slightly less than one: 0.886; for a rough estimate it can be taken to be one.\n",
    "Using a standard Black-Scholes calculator, it easy to verify that the initial vega of the option we have analyzed is $\\kappa$ = 0.115/vol point. Once you know the relevant vega, it is easy to apply equation 1; for N = 21, we would estimate $\\sigma_{PL}$ = 0.443, while $\\sigma_{PL}$ = 0.222. These estimates are quite close to the simulation results of Table 1.\n",
    "There is an even simpler way of using this rule for the case of an option that is struck close to the initial spot price. In this case, since the option price itself is approximately proportional to the volatility, the relation expressing the standard deviation of replication error as a multiple of initial option price becomes:"
   ]
  },
  {
   "cell_type": "markdown",
   "metadata": {
    "collapsed": true
   },
   "source": [
    "(4) $$\\frac{\\sigma _{L P\\&}}{C_0}\\approx \\sqrt{\\frac{\\pi }{4}}\\frac{1}{\\sqrt{N}}$$"
   ]
  },
  {
   "cell_type": "markdown",
   "metadata": {},
   "source": [
    "Observe that the right-hand side of this equation only depends on the number of times you hedge. This simpler approximation remains reasonably accurate: $\\sigma_{PL}/C_0$ is 19.3% for N = 21, 9.7% for N = 84.\n",
    "Equation (1) for the replication error is actually a reasonable approximation of a more complicated formula, which we will not derive here. Although the full formula provides better agreement than Equation (1) for options that are far out-of-the-money, have a longer term to expiration, or are priced under higher interest rates, their qualitative behavior is quite similar. In any case, for a wide range of pricing parameters of practical interest (T < 1 year, r < 10%, strikes close enough to spot, say within 0.25 put-delta), the estimates are quite close.\n",
    "There is an intuitive way of understanding Equations (1) and (2). When you hedge intermittently rather than continuously along some path to expiration, you are sampling the underlyer price discretely, and therefore obtaining only an approximate measure of the true volatility of the underlyer. Therefore, the estimated volatility itself will have an error. The histograms of Exhibit 2 show the range of volatilities estimated from each of the 50,000 paths used in the simulation analysis.\n",
    "The volatility measured over all paths is, on average, close to 20%. But there is considerable variation in the volatility measured from discretely sampled prices --- even, as is the case here, when the underlying process really is lognormal with known constant volatility, and no jumps or other deviations are allowed. The discrete sampling itself introduces this error. This error is analogous to the statistical fluctuations that are seen when flipping a fair coin N times -- the measured frequency of heads will on average be 1/2, but there will be variations around the average roughly of size $1/\\sqrt{N}$. The same $\\sqrt{N}$ shows up here: the standard deviation of the measured volatility based on N samples is $\\sigma/\\sqrt{2N}$.\n",
    "Therefore, in an approximate way, the volatility you may actually experience in hedging the option is:"
   ]
  },
  {
   "cell_type": "markdown",
   "metadata": {
    "collapsed": true
   },
   "source": [
    "(5) $$\\sigma _{\\text{sampled}}\\approx \\sigma \\pm \\frac{\\sigma }{\\sqrt{2 N}}$$"
   ]
  },
  {
   "cell_type": "markdown",
   "metadata": {},
   "source": [
    "Consequently, the option price you may capture by replication is an option price corresponding to a volatility somewhere in this range, so that:"
   ]
  },
  {
   "cell_type": "markdown",
   "metadata": {
    "collapsed": true
   },
   "source": [
    "(6) $$c[\\sigma _{\\text{sampled}}]-c[\\sigma]\\approx \\kappa  \\left(\\sigma _{\\text{sampled}}-\\sigma \\right)$$"
   ]
  },
  {
   "cell_type": "markdown",
   "metadata": {},
   "source": [
    "where $C[\\sigma]$ is the fair Black-Scholes option price for volatility $\\sigma$. We have used the option vega, $\\kappa$, to approximately account for the option's sensitivity to this error in volatility. As a result, we should expect an average profit/loss of zero and a standard deviation in profit/loss that is proportional to the standard deviation of measured volatility:"
   ]
  },
  {
   "cell_type": "markdown",
   "metadata": {
    "collapsed": true
   },
   "source": [
    "(7) $$\\sigma _{PL}\\approx \\kappa  \\frac{\\sigma }{\\sqrt{2 N}}$$"
   ]
  },
  {
   "cell_type": "markdown",
   "metadata": {},
   "source": [
    "Equation (7), except for the slightly different numerical coefficient, agrees with the more rigorous result obtained in Equation (1), and provides an easily understandable heuristic explanation for the behavior of the replication error displayed in Exhibit 1."
   ]
  },
  {
   "cell_type": "code",
   "execution_count": 23,
   "metadata": {
    "collapsed": true
   },
   "outputs": [],
   "source": [
    "def rets(x):\n",
    "    y=x.values\n",
    "    return pd.Series(y[1:]/y[:-1]-1)"
   ]
  },
  {
   "cell_type": "code",
   "execution_count": 24,
   "metadata": {},
   "outputs": [
    {
     "data": {
      "text/plain": [
       "0.061427075144669385"
      ]
     },
     "execution_count": 24,
     "metadata": {},
     "output_type": "execute_result"
    }
   ],
   "source": [
    "rets(testpath).std()"
   ]
  },
  {
   "cell_type": "code",
   "execution_count": 25,
   "metadata": {
    "collapsed": true
   },
   "outputs": [],
   "source": [
    "def logrets(x):\n",
    "    y=x.values\n",
    "    return pd.Series(np.log(y[1:]/y[:-1]))"
   ]
  },
  {
   "cell_type": "code",
   "execution_count": 26,
   "metadata": {},
   "outputs": [
    {
     "data": {
      "text/plain": [
       "0.058529757070119585"
      ]
     },
     "execution_count": 26,
     "metadata": {},
     "output_type": "execute_result"
    }
   ],
   "source": [
    "logrets(testpath).std()"
   ]
  },
  {
   "cell_type": "code",
   "execution_count": 27,
   "metadata": {},
   "outputs": [],
   "source": [
    "rlzvols84=pd.Series([logrets(j[0]).std() for j in allpaths])"
   ]
  },
  {
   "cell_type": "code",
   "execution_count": 28,
   "metadata": {},
   "outputs": [],
   "source": [
    "rlzvols21=pd.Series([logrets(j[1]).std() for j in allpaths])"
   ]
  },
  {
   "cell_type": "markdown",
   "metadata": {},
   "source": [
    "## Exhibit 2: Histograms showing the volatilities estimated from (a) 21 and (b) 84 simulated returns."
   ]
  },
  {
   "cell_type": "markdown",
   "metadata": {},
   "source": [
    "(a)"
   ]
  },
  {
   "cell_type": "code",
   "execution_count": 29,
   "metadata": {},
   "outputs": [
    {
     "data": {
      "text/plain": [
       "<matplotlib.axes._subplots.AxesSubplot at 0x12970ae50>"
      ]
     },
     "execution_count": 29,
     "metadata": {},
     "output_type": "execute_result"
    },
    {
     "data": {
      "image/png": "[encoded data removed]",
      "text/plain": [
       "<matplotlib.figure.Figure at 0x1295a6790>"
      ]
     },
     "metadata": {},
     "output_type": "display_data"
    }
   ],
   "source": [
    "(100*np.sqrt(252)*rlzvols21).plot(kind='hist', bins=20)"
   ]
  },
  {
   "cell_type": "markdown",
   "metadata": {
    "collapsed": true
   },
   "source": [
    "(b)"
   ]
  },
  {
   "cell_type": "code",
   "execution_count": 30,
   "metadata": {},
   "outputs": [
    {
     "data": {
      "text/plain": [
       "<matplotlib.axes._subplots.AxesSubplot at 0x12975ced0>"
      ]
     },
     "execution_count": 30,
     "metadata": {},
     "output_type": "execute_result"
    },
    {
     "data": {
      "image/png": "[encoded data removed]",
      "text/plain": [
       "<matplotlib.figure.Figure at 0x129d56a50>"
      ]
     },
     "metadata": {},
     "output_type": "display_data"
    }
   ],
   "source": [
    "(100*np.sqrt(252*4)*rlzvols84).plot(kind='hist', bins=20)"
   ]
  },
  {
   "cell_type": "markdown",
   "metadata": {},
   "source": [
    "## Trading Volatility and its Risks"
   ]
  },
  {
   "cell_type": "markdown",
   "metadata": {},
   "source": [
    "In this note we have focused on only one of the many risks of hedging options. Intermittent hedging alone can lead to large replication errors and consequent P&L fluctuations, even when all other option market parameters are known. The only way to reduce this particular error is to rehedge more frequently, or to run a more closely matched book whose gamma is close to zero, thereby avoiding the need to rehedge. In practice, however, the advantage gained by increased rehedging must be weighed against the losses due to transaction costs and potentially adverse market impact.\n",
    "Currently, global index volatilities and their skews are extremely high, perhaps making the idea of selling volatility attractive (See the Global Risk and Option Strategy Perspective section in this Quarterly). If implementing this volatility view requires delta-hedging, then our analysis shows that the premium collected by selling options must be at least large enough to leave a cushion for the replication error induced by discrete hedging. This error is not small; expressed in volatility terms, a one-standard-deviation estimate of this error is approximately  \\[Sigma] / Sqrt[N], where N is the number of rehedging trades. Including other sources of hedging risk, such as the possibility of jumps, changes in the future levels of volatility, and transaction costs, will only increase the need for an even larger cushion.\n",
    "Investors interested in trading volatility should be aware that there are other there are other strategies that either allow one to take a volatility position outright, such as volatility swaps, or that contain short volatility exposure link to index exposure -- spreads across options of with different strikes or terms to expirations. Volatility swaps are forward contracts on realized volatility. Much like a standard forward contract, the holder of a long position receives at expiration the difference between the actual volatility of the underlyer over the period and a strike that is set at inception. In this way, the investor can implement a view on volatility while leaving the actual mechanics of capture to the option dealer. More information on volatility trading can be found in the references listed at the end of the note, or from your Goldman Sachs equity derivatives salesperson."
   ]
  },
  {
   "cell_type": "markdown",
   "metadata": {},
   "source": [
    "## References"
   ]
  },
  {
   "cell_type": "markdown",
   "metadata": {},
   "source": [
    "1. Investing in Volatility, E. Derman, Michael Kamal, Iraj Kani, John McClure, Cyrus Pirasteh, Joseph Zou, Quantitative Strategies Research Notes (Goldman Sachs & Co.), October 1996.\n",
    "2. Valuing Derivatives with Payoff based on Future Realized Volatility, Emanuel Derman, Michael Kamal, Iraj Kani, Joseph Zou, Global Derivatives Quarterly Review, Equity Derivatives Research (Goldman Sachs & Co., July 1996)"
   ]
  }
 ],
 "metadata": {
  "kernelspec": {
   "display_name": "Python 2",
   "language": "python",
   "name": "python2"
  },
  "language_info": {
   "codemirror_mode": {
    "name": "ipython",
    "version": 2
   },
   "file_extension": ".py",
   "mimetype": "text/x-python",
   "name": "python",
   "nbconvert_exporter": "python",
   "pygments_lexer": "ipython2",
   "version": "2.7.14"
  }
 },
 "nbformat": 4,
 "nbformat_minor": 1
}
